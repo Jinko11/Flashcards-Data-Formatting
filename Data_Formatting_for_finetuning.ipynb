{
  "nbformat": 4,
  "nbformat_minor": 0,
  "metadata": {
    "colab": {
      "provenance": []
    },
    "kernelspec": {
      "name": "python3",
      "display_name": "Python 3"
    },
    "language_info": {
      "name": "python"
    }
  },
  "cells": [
    {
      "cell_type": "markdown",
      "source": [
        "### **Description**\n",
        "\n",
        "This notebook is designed to convert medical school lecture content from an Excel file into a JSONL format suitable for creating Anki flashcards. The process involves the following steps:\n",
        "\n",
        "1. **Library Imports**: We import the necessary libraries, `pandas` for data manipulation and `json` for handling JSON data.\n",
        "\n",
        "2. **Loading Data**: The Excel file containing the lecture slides and corresponding Anki card information is loaded into a Pandas DataFrame. This allows us to easily access and manipulate the data.\n",
        "\n",
        "3. **System Message Definition**: We define a system message that sets the context for an AI model. This message describes the model's role as an expert medical professor, emphasizing the importance of high-yield information that frequently appears on medical exams.\n",
        "\n",
        "4. **Creating JSONL Structure**: We iterate through each row of the DataFrame to create a structured JSON object for each entry. Each entry includes:\n",
        "   - The system message,\n",
        "   - The lecture slide content,\n",
        "   - The corresponding Anki card content.\n",
        "\n",
        "5. **Writing to JSONL**: The structured data is then written to a JSONL file, with each entry saved on a new line for easy access.\n",
        "\n",
        "6. **Completion Message**: Finally, a message is printed to confirm that the JSONL file has been successfully created.\n"
      ],
      "metadata": {
        "id": "iyI7-K1dudIo"
      }
    },
    {
      "cell_type": "code",
      "source": [
        "import pandas as pd\n",
        "import json\n",
        "\n",
        "# Load the Excel file\n",
        "file_path = '/content/Copy of Examples for LectureAgent.xlsx'  # Update with your file path\n",
        "df = pd.read_excel(file_path)\n",
        "\n",
        "# Define the system content for all entries\n",
        "system_content = (\n",
        "    \"You are an expert medical school professor with a deep understanding of what is most high-yield for medical school exams. \"\n",
        "    \"Your task is to review content from medical school lectures and create Anki cards to facilitate learning for medical school students. \"\n",
        "    \"Not everything from the lecture will require conversion into anki cards and it is very important that you focus only on the most essential \"\n",
        "    \"information that frequently appears on medical school exams and the USMLE. Use your expertise to decide what is worth memorizing, and structure \"\n",
        "    \"the cards in a way that maximizes active recall. Prioritize clarity and relevance. You will be condensing high yield concepts into the Anki cards.\"\n",
        ")\n",
        "\n",
        "# Create the JSONL content\n",
        "jsonl_data = []\n",
        "\n",
        "# Iterate through each row of the dataframe and create the JSON structure\n",
        "for _, row in df.iterrows():\n",
        "    entry = {\n",
        "        \"messages\": [\n",
        "            {\"role\": \"system\", \"content\": system_content},\n",
        "            {\"role\": \"user\", \"content\": row[\"input_lecture_slide\"]},\n",
        "            {\"role\": \"assistant\", \"content\": row[\"output_anki_cards\"]}\n",
        "        ]\n",
        "    }\n",
        "    jsonl_data.append(entry)\n",
        "\n",
        "# Specify the output JSONL file path\n",
        "output_jsonl_path = 'output_anki_cards.jsonl'\n",
        "\n",
        "# Write the JSONL file\n",
        "with open(output_jsonl_path, 'w') as jsonl_file:\n",
        "    for entry in jsonl_data:\n",
        "        jsonl_file.write(json.dumps(entry) + '\\n')\n",
        "\n",
        "print(f\"JSONL file has been created at {output_jsonl_path}\")\n"
      ],
      "metadata": {
        "colab": {
          "base_uri": "https://localhost:8080/"
        },
        "id": "erApDKzttApP",
        "outputId": "9d2263fa-2ca8-4c21-bc57-ecd5b8878a05"
      },
      "execution_count": 2,
      "outputs": [
        {
          "output_type": "stream",
          "name": "stdout",
          "text": [
            "JSONL file has been created at output_anki_cards.jsonl\n"
          ]
        }
      ]
    },
    {
      "cell_type": "code",
      "source": [],
      "metadata": {
        "id": "Ex08bM12thVE"
      },
      "execution_count": null,
      "outputs": []
    }
  ]
}